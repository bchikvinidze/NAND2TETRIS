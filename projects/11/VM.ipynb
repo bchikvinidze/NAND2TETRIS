{
 "cells": [
  {
   "cell_type": "code",
   "execution_count": null,
   "metadata": {},
   "outputs": [],
   "source": [
    "def push(typeof, val):\n",
    "    result = \"push \" + typeof + \" \" + val + \"\\n\"\n",
    "    return result\n",
    "\n",
    "def pop(typeof, val):\n",
    "    result =  \"pop \" + typeof + \" \" + val + \"\\n\"\n",
    "    return result\n",
    "\n",
    "def ret():\n",
    "    return 'return\\n'\n",
    "\n",
    "def function(name, var):\n",
    "    return \"function \" + name + \" \" + var + \"\\n\"\n",
    "\n",
    "def calc(op):\n",
    "    operator_map = {'+':'add','-':'sub', '*':'call Math.multiply 2',\n",
    "                   '/':'call Math.divide 2', '&':'and', '|':'or', '<':'lt',\n",
    "                   '>':'gt', '=':'eq', '-':'neg', '~':'not'}\n",
    "    return operator_map[op] + \"\\n\"\n",
    "\n",
    "def label(name):\n",
    "    return \"label \" + name + \"\\n\"\n",
    "\n",
    "def goto(label):\n",
    "    return \"goto \" + label + \"\\n\"\n",
    "\n",
    "def ifGoto(label):\n",
    "    return \"if-goto \" + label + \"\\n\"\n",
    "\n",
    "def call(func, arg):\n",
    "    return \"call \" + func + \" \" + arg + \"\\n\"\n"
   ]
  }
 ],
 "metadata": {
  "kernelspec": {
   "display_name": "Python 3",
   "language": "python",
   "name": "python3"
  },
  "language_info": {
   "codemirror_mode": {
    "name": "ipython",
    "version": 3
   },
   "file_extension": ".py",
   "mimetype": "text/x-python",
   "name": "python",
   "nbconvert_exporter": "python",
   "pygments_lexer": "ipython3",
   "version": "3.7.6"
  }
 },
 "nbformat": 4,
 "nbformat_minor": 4
}
